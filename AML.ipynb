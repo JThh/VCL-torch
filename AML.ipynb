{
  "nbformat": 4,
  "nbformat_minor": 0,
  "metadata": {
    "colab": {
      "name": "AML",
      "version": "0.3.2",
      "provenance": [],
      "collapsed_sections": []
    },
    "kernelspec": {
      "name": "python3",
      "display_name": "Python 3"
    }
  },
  "cells": [
    {
      "metadata": {
        "id": "Y7NrOM8pl9h4",
        "colab_type": "text"
      },
      "cell_type": "markdown",
      "source": [
        "# Variational Continual Learning"
      ]
    },
    {
      "metadata": {
        "id": "Bckt_VDclqDZ",
        "colab_type": "code",
        "colab": {}
      },
      "cell_type": "code",
      "source": [
        "import torch\n",
        "import torch.nn as nn\n",
        "import torch.nn.functional as F\n",
        "import torchvision\n",
        "import numpy as np\n",
        "# visualization tools\n",
        "import matplotlib\n",
        "import matplotlib.pyplot as plt\n",
        "# datasets\n",
        "import torchvision.datasets as datasets"
      ],
      "execution_count": 0,
      "outputs": []
    },
    {
      "metadata": {
        "id": "_P0LE8K-LZAz",
        "colab_type": "code",
        "colab": {}
      },
      "cell_type": "code",
      "source": [
        ""
      ],
      "execution_count": 0,
      "outputs": []
    },
    {
      "metadata": {
        "id": "chIFSFxXmEU7",
        "colab_type": "text"
      },
      "cell_type": "markdown",
      "source": [
        "We begin by defining `VCLModel`, a Bayesian multi-head neural network which updates its parameters using variational inference."
      ]
    },
    {
      "metadata": {
        "id": "-7cMRRWDmRwe",
        "colab_type": "code",
        "colab": {}
      },
      "cell_type": "code",
      "source": [
        "class VCL_NN(nn.Module):\n",
        "  def __init__(self, input_size: int, out_size: int, layer_width: int, n_hidden_layers: int):\n",
        "    super(VCL_NN, self).__init__()\n",
        "    self.input_size = input_size\n",
        "    self.out_size = out_size\n",
        "    self.n_hidden_layers = n_hidden_layers\n",
        "    self.layer_width = layer_width\n",
        "    self.prior, self.posterior = None, None\n",
        "    init_prior()\n",
        "  \n",
        "  def forward(self, x):\n",
        "    (w_means, w_vars), (b_means, b_vars) = self.posterior\n",
        "    w_epsilons = torch.randn_like(w_means)\n",
        "    b_epsilons = torch.randn_like(b_means)\n",
        "\n",
        "    sampled_weights = w_means + w_epsilons * torch.sqrt(w_vars)\n",
        "    sampled_bias = b_means + b_epsilons * torch.sqrt(b_vars)\n",
        "\n",
        "    for i, layer in enumerated(sampled_weights):\n",
        "      x = F.relu(layer @ x + sampled_bias[i])\n",
        "      \n",
        "    return x\n",
        "\n",
        "  def prediction(self):\n",
        "    pass\n",
        "  \n",
        "  def calculate_KL_term(self):\n",
        "    '''Calculates and returns KL(posterior, prior). Formula from L3 slide 14.'''\n",
        "    # Concatenate w and b statistics into one tensor for ease of calculation\n",
        "    ((prior_w_means, prior_w_vars), (prior_b_means, prior_b_vars)) = self.prior\n",
        "    prior_means = torch.cat((prior_w_means, prior_b_means), axis=0)\n",
        "    prior_vars = torch.cat((prior_w_vars, prior_b_vars), axis=0)\n",
        "    \n",
        "    ((post_w_means, post_w_vars), (post_b_means, post_b_vars)) = self.posterior\n",
        "    post_means = torch.cat((post_w_means, post_b_means), axis=0)\n",
        "    post_vars = torch.cat((post_w_vars, post_b_vars), axis=0)\n",
        "    \n",
        "    # Calculate KL for individual normal distributions over parameters\n",
        "    KL_elementwise = \n",
        "      post_vars / prior_vars +\n",
        "      torch.pow(prior_means - post_means, 2) / prior_vars\n",
        "      - 1 + torch.log(prior_vars / post_vars)\n",
        "    \n",
        "    # Sum KL over all parameters \n",
        "    return 0.5 * KL_elementwise.sum()\n",
        "    \n",
        "  \n",
        "  def loss(self):\n",
        "    pass\n",
        "  \n",
        "  def init_prior(self):\n",
        "    if self.prior == None:\n",
        "      w_means = torch.zeros(self.n_hidden_layers + 1, self.layer_width, self.layer_width)\n",
        "      w_vars = torch.ones(self.n_hidden_layers + 1, self.layer_width, self.layer_width)\n",
        "      b_means = torch.zeros(self.n_hidden_layers + 1, self.layer_width, self.layer_width)\n",
        "      b_vars = torch.ones(self.n_hidden_layers + 1, self.layer_width, self.layer_width)\n",
        "      self.prior = ((w_means, w_vars), (b_means, b_vars))\n",
        "    else:\n",
        "      self.prior = self.posterior"
      ],
      "execution_count": 0,
      "outputs": []
    },
    {
      "metadata": {
        "id": "y-16BH6AIgcz",
        "colab_type": "code",
        "colab": {}
      },
      "cell_type": "code",
      "source": [
        ""
      ],
      "execution_count": 0,
      "outputs": []
    },
    {
      "metadata": {
        "id": "watXub2HjxTK",
        "colab_type": "text"
      },
      "cell_type": "markdown",
      "source": [
        "# EXPERIMENTS\n",
        "In this section we replicate the experiments from the original paper. The experiments are divided into discriminative and generative cases.\n",
        "\n",
        "## Discriminative Experiments\n",
        "### 1)  Permuted MNIST\n",
        "In the permuted MNIST experiment, each of the *T* datasets is a copy of the MNIST dataset where the pixels in the image have undergone a random fixed permutation. The original paper compares the performance (average test set accuracy) of VCL to EWC, SI, and diagonal LP."
      ]
    },
    {
      "metadata": {
        "id": "UrM0AmLLjwHO",
        "colab_type": "code",
        "outputId": "23c8433e-4183-4058-c4a9-2c3738328651",
        "colab": {
          "base_uri": "https://localhost:8080/",
          "height": 231
        }
      },
      "cell_type": "code",
      "source": [
        "# download MNIST\n",
        "mnist_train = datasets.MNIST(root='./data/', train=True, download=True)\n",
        "mnist_test = datasets.MNIST(root='./data/', train=False, download=True)\n",
        "\n",
        "mnist_in_dim = 28*28\n",
        "mnist_out_dim = 10\n",
        "\n",
        "print(mnist_train[0][1].value())\n",
        "\n",
        "# transformation that is applied to each new task\n",
        "perm = torch.randperm(mnist_in_dim)\n",
        "\n",
        "# dims are the same as in original paper\n",
        "model = VCL_NN(mnist_in_dim, mnist_out_dim, 100, 2)\n",
        "\n",
        "# each task is a random permutation of MNIST\n",
        "for task in range(10):\n",
        "  mnist_train = None\n",
        "\n",
        "# test\n",
        "for task in range(10):\n",
        "  pass\n",
        "  "
      ],
      "execution_count": 0,
      "outputs": [
        {
          "output_type": "error",
          "ename": "AttributeError",
          "evalue": "ignored",
          "traceback": [
            "\u001b[0;31m---------------------------------------------------------------------------\u001b[0m",
            "\u001b[0;31mAttributeError\u001b[0m                            Traceback (most recent call last)",
            "\u001b[0;32m<ipython-input-37-e21bc5ef4d3f>\u001b[0m in \u001b[0;36m<module>\u001b[0;34m()\u001b[0m\n\u001b[1;32m      5\u001b[0m \u001b[0mmnist_out_dim\u001b[0m \u001b[0;34m=\u001b[0m \u001b[0;36m10\u001b[0m\u001b[0;34m\u001b[0m\u001b[0;34m\u001b[0m\u001b[0m\n\u001b[1;32m      6\u001b[0m \u001b[0;34m\u001b[0m\u001b[0m\n\u001b[0;32m----> 7\u001b[0;31m \u001b[0mprint\u001b[0m\u001b[0;34m(\u001b[0m\u001b[0mmnist_train\u001b[0m\u001b[0;34m[\u001b[0m\u001b[0;36m0\u001b[0m\u001b[0;34m]\u001b[0m\u001b[0;34m[\u001b[0m\u001b[0;36m1\u001b[0m\u001b[0;34m]\u001b[0m\u001b[0;34m.\u001b[0m\u001b[0mvalue\u001b[0m\u001b[0;34m(\u001b[0m\u001b[0;34m)\u001b[0m\u001b[0;34m)\u001b[0m\u001b[0;34m\u001b[0m\u001b[0;34m\u001b[0m\u001b[0m\n\u001b[0m\u001b[1;32m      8\u001b[0m \u001b[0;34m\u001b[0m\u001b[0m\n\u001b[1;32m      9\u001b[0m \u001b[0;31m# transformation that is applied to each new task\u001b[0m\u001b[0;34m\u001b[0m\u001b[0;34m\u001b[0m\u001b[0;34m\u001b[0m\u001b[0m\n",
            "\u001b[0;31mAttributeError\u001b[0m: 'Tensor' object has no attribute 'value'"
          ]
        }
      ]
    },
    {
      "metadata": {
        "id": "vU2YH4qawBzh",
        "colab_type": "text"
      },
      "cell_type": "markdown",
      "source": [
        "### 2) Split MNIST\n",
        "In the split MNIST experiment, the MNIST dataset is divided into five binary classification tasks. The tasks are (0/1), (2/3), (4/5), (6/7), (8/9). Again the original paper compares the *average test set accuracy* of VCL against EWC, SI, and diagonal LP."
      ]
    },
    {
      "metadata": {
        "id": "hxw4OEV-xCR6",
        "colab_type": "code",
        "colab": {}
      },
      "cell_type": "code",
      "source": [
        "# split MNIST\n",
        "mnist_train = datas"
      ],
      "execution_count": 0,
      "outputs": []
    },
    {
      "metadata": {
        "id": "y8sqxPnP3t6E",
        "colab_type": "text"
      },
      "cell_type": "markdown",
      "source": [
        "### 3) Split notMNIST\n",
        "In this experiment, the notMNIST dataset is used, which consists of images of 10 different characters (from A to J). The dataset is then split into five binary classification tasks as it was in the second experiment. The comparison is again *average test set accuracy* against EWC, SI, and diagonal LP."
      ]
    },
    {
      "metadata": {
        "id": "If_eKVO74MOy",
        "colab_type": "code",
        "colab": {}
      },
      "cell_type": "code",
      "source": [
        "# split notMNIST\n"
      ],
      "execution_count": 0,
      "outputs": []
    },
    {
      "metadata": {
        "id": "6SPBnxahlcsP",
        "colab_type": "text"
      },
      "cell_type": "markdown",
      "source": [
        "## Generative Experiments"
      ]
    },
    {
      "metadata": {
        "id": "9kqOG-jxlrVE",
        "colab_type": "code",
        "colab": {}
      },
      "cell_type": "code",
      "source": [
        ""
      ],
      "execution_count": 0,
      "outputs": []
    }
  ]
}